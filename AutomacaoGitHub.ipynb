{
 "cells": [
  {
   "cell_type": "markdown",
   "id": "3ec33591",
   "metadata": {},
   "source": [
    "# Automação de Sistemas e Processos com Python\n",
    "\n",
    "O seu trabalho diário, como analista, é enviar um e-mail para a diretoria, assim que começar a trabalhar, com o faturamento e a quantidade de produtos vendidos no dia anterior\n",
    "\n",
    "E-mail da diretoria: emaildiretoria@email.com\n",
    "Local onde o sistema disponibiliza as vendas do dia anterior:\n",
    "googledrive/planilha\n",
    "\n",
    "Foi usado para realização da tareda, foi usado o pyautogui, pyperclip, time e pandas.\n",
    "\n",
    "Referência do pyautogui: https://pyautogui.readthedocs.io/en/latest/quickstart.html"
   ]
  },
  {
   "cell_type": "code",
   "execution_count": null,
   "id": "0d91d1bd",
   "metadata": {},
   "outputs": [],
   "source": [
    "!pip install pyautogui"
   ]
  },
  {
   "cell_type": "code",
   "execution_count": 35,
   "id": "1f1e4dfe",
   "metadata": {},
   "outputs": [],
   "source": [
    "# 1º Passo: entrar no sistema da empresa ( neste caso é o link do drive)\n",
    "# 2ª Passo: navegar no sistema e encontrar a base de vendas\n",
    "# 3ª Passo: fazer o download da base de vendas\n",
    "# 4ª Passo: Importar a base de vendas para o Python\n",
    "# 5ª Passo: Calcular os indicadores da empresa\n",
    "# 6ª Passo: enviar o e-mail para a diretoria com os indicadores"
   ]
  },
  {
   "cell_type": "code",
   "execution_count": 41,
   "id": "af0db9f3",
   "metadata": {},
   "outputs": [],
   "source": [
    "import pyautogui\n",
    "import pyperclip\n",
    "from time import sleep\n",
    "\n",
    "pyautogui.Pause = 2\n",
    "\n",
    "#pyautogui.click-> clicar\n",
    "#pyautogui.press-> apertar 1 tecla\n",
    "#pyautogui.hotkey-> conjunto de teclas\n",
    "#pyautogui.write-> escrever um texto\n",
    "\n",
    "# 1º Passo: entrar no sistema da empresa ( neste caso é o link do drive)\n",
    "pyautogui.hotkey(\"ctrl\", \"t\") # neste caso o navegador já está aberto com o Jupyter para rodar a aplicação\n",
    "sleep(2)\n",
    "pyperclip.copy(\"googledrive/planilha\")\n",
    "pyautogui.hotkey(\"ctrl\", \"v\")  # Copiado Link para nao haver erro na execução\n",
    "pyautogui.press(\"enter\")\n",
    "# espera para carregar\n",
    "sleep(5)\n",
    "\n",
    "\n",
    "# 2ª Passo: navegar no sistema e encontrar a base de vendas -\n",
    "# pyautogui.position(x= ,y=) posição onde o mouse se encontra na tela \n",
    "pyautogui.click(x=, y=, clicks=2) #clica em Exportar \n",
    "sleep(3)\n",
    "\n",
    "# 3ª Passo: fazer o download da base de vendas \n",
    "pyautogui.click(x=, y=)#clica no arquivo, neste caso é Vendas\n",
    "sleep(2)\n",
    "pyautogui.click(x=, y=)#clica 3 pontos para download\n",
    "sleep(2)\n",
    "pyautogui.click(x=, y=, clicks=2)#clica em download\n",
    "sleep(5)\n",
    "pyautogui.click(x=, y=, clicks=2)#clica no arquivo que baixou no canto inferior esquerdo da tela\n"
   ]
  },
  {
   "cell_type": "code",
   "execution_count": null,
   "id": "0c1f4598",
   "metadata": {},
   "outputs": [],
   "source": [
    "# 4ª Passo: Importar a base de vendas para o Python\n",
    "import pandas as pd\n",
    "\n",
    "tabela = pd.read_excel(r'local do arquivo ')\n",
    "display(tabela)\n"
   ]
  },
  {
   "cell_type": "code",
   "execution_count": null,
   "id": "9b515c3d",
   "metadata": {},
   "outputs": [],
   "source": [
    "# 5ª Passo: Calcular os indicadores da empresa\n",
    "faturamento = tabela['Valor Final'].sum()\n",
    "print(faturamento)\n",
    "quantidade = tabela['Quantidade'].sum()\n",
    "print(quantidade)"
   ]
  },
  {
   "cell_type": "code",
   "execution_count": 39,
   "id": "0b71c9e1",
   "metadata": {},
   "outputs": [],
   "source": [
    "# 6ª Passo: enviar o e-mail para a diretoria com os indicadores\n",
    "\n",
    "# abrir aba\n",
    "pyautogui.hotkey(\"ctrl\", \"t\")\n",
    "sleep(2)\n",
    "\n",
    "# entrar no link do email - paginal inicial do e-mail\n",
    "pyperclip.copy(\"paginal inicial do e-mail\")\n",
    "pyautogui.hotkey(\"ctrl\", \"v\")\n",
    "pyautogui.press(\"enter\")\n",
    "sleep(5)\n",
    "\n",
    "# clicar no botão escrever\n",
    "pyautogui.click(x=, y=)\n",
    "sleep(2)\n",
    "\n",
    "# preencher as informaçôes do e-mail\n",
    "pyautogui.write(\"e-mail\") # endereço de e-mail no qual queira enviar\n",
    "pyautogui.press(\"tab\") # selecionar o e-mail\n",
    "\n",
    "pyautogui.press(\"tab\") # pular para o campo assunto\n",
    "pyperclip.copy(\"Relatório de Vendas\")\n",
    "pyautogui.hotkey(\"ctrl\", \"v\")\n",
    "sleep(2)\n",
    "\n",
    "pyautogui.press(\"tab\") # pular para o campo de e-mail\n",
    "\n",
    "# texto do corpo do e-mail com os numeros obtidos totalmete formatados   \n",
    "texto = f\"\"\"\n",
    "Prezados,\n",
    "\n",
    "Segue o relatório de vendas.\n",
    "Faturamento = R${faturamento:,.2f} \n",
    "Quantidade de produtos = {quantidade:,}\n",
    "\n",
    "Qualquer dúvida fico totalmente à disposição.\n",
    "\n",
    "att;\n",
    "Marcos VTK\n",
    "\"\"\"\n",
    "pyperclip.copy(texto)\n",
    "pyautogui.hotkey(\"ctrl\", \"v\")\n",
    "sleep(3)\n",
    "\n",
    "# enviar o e-mail\n",
    "pyautogui.hotkey('ctrl', 'enter')    \n"
   ]
  },
  {
   "cell_type": "code",
   "execution_count": 40,
   "id": "e795f689",
   "metadata": {},
   "outputs": [],
   "source": [
    "#Use esse codigo para descobrir a posição de seu mouse na tela\n",
    "#sleep(5)\n",
    "#pyautogui.position()"
   ]
  },
  {
   "cell_type": "code",
   "execution_count": null,
   "id": "1e04afe2",
   "metadata": {},
   "outputs": [],
   "source": []
  }
 ],
 "metadata": {
  "kernelspec": {
   "display_name": "Python 3 (ipykernel)",
   "language": "python",
   "name": "python3"
  },
  "language_info": {
   "codemirror_mode": {
    "name": "ipython",
    "version": 3
   },
   "file_extension": ".py",
   "mimetype": "text/x-python",
   "name": "python",
   "nbconvert_exporter": "python",
   "pygments_lexer": "ipython3",
   "version": "3.9.12"
  }
 },
 "nbformat": 4,
 "nbformat_minor": 5
}
